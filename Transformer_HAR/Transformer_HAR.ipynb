{
  "nbformat": 4,
  "nbformat_minor": 0,
  "metadata": {
    "colab": {
      "name": "Transformer_HAR.ipynb",
      "provenance": [],
      "authorship_tag": "ABX9TyPTjT16kYTIimtJEFzc0714",
      "include_colab_link": true
    },
    "kernelspec": {
      "name": "python3",
      "display_name": "Python 3"
    },
    "language_info": {
      "name": "python"
    }
  },
  "cells": [
    {
      "cell_type": "markdown",
      "metadata": {
        "id": "view-in-github",
        "colab_type": "text"
      },
      "source": [
        "<a href=\"https://colab.research.google.com/github/Sihan-A/Paper_Reproduction_with_Colab/blob/main/Transformer_HAR/Transformer_HAR.ipynb\" target=\"_parent\"><img src=\"https://colab.research.google.com/assets/colab-badge.svg\" alt=\"Open In Colab\"/></a>"
      ]
    },
    {
      "cell_type": "markdown",
      "metadata": {
        "id": "Wjo_pl5jdfeX"
      },
      "source": [
        "# HAR Transformer"
      ]
    },
    {
      "cell_type": "code",
      "metadata": {
        "id": "wo1QwIkUdYIH"
      },
      "source": [
        "!pip3 install zenodo_get"
      ],
      "execution_count": null,
      "outputs": []
    },
    {
      "cell_type": "code",
      "metadata": {
        "id": "KeqMDjk0-w26"
      },
      "source": [
        "!pip3 install git+https://github.com/dvolgyes/zenodo_get"
      ],
      "execution_count": null,
      "outputs": []
    },
    {
      "cell_type": "code",
      "metadata": {
        "id": "v9cNVpapdeli",
        "outputId": "f597bff8-6be4-4d5b-b28c-a9538b2593a2",
        "colab": {
          "base_uri": "https://localhost:8080/"
        }
      },
      "source": [
        "!zenode_get -h"
      ],
      "execution_count": 6,
      "outputs": [
        {
          "output_type": "stream",
          "name": "stdout",
          "text": [
            "/bin/bash: zenode_get: command not found\n"
          ]
        }
      ]
    },
    {
      "cell_type": "code",
      "metadata": {
        "id": "ck9PX3dvden5",
        "outputId": "9543f23f-ec70-4080-cf6f-398035faf9f5",
        "colab": {
          "base_uri": "https://localhost:8080/"
        }
      },
      "source": [
        "!zenodo_get 10.5281/zenodo.4064802"
      ],
      "execution_count": 7,
      "outputs": [
        {
          "output_type": "stream",
          "name": "stdout",
          "text": [
            "Title: Precision Beef - Animal Behaviour Classification\n",
            "Keywords: animal behaviour, cattle, collar, halter, accelerometer\n",
            "Publication date: 2021-06-09\n",
            "DOI: 10.5281/zenodo.4064802\n",
            "Total size: 7844.2 MB\n",
            "\n",
            "Link: https://zenodo.org/api/files/4bee36ed-6552-4502-b17e-0f622616dde1/accel-01.csv   size: 550.6 MB\n",
            "\n",
            "Checksum is correct. (ae6c00a0adf3e82155d70e264cb29f46)\n",
            "\n",
            "Link: https://zenodo.org/api/files/4bee36ed-6552-4502-b17e-0f622616dde1/accel-02.csv   size: 173.0 MB\n",
            "\n",
            "Checksum is correct. (75f692dbd5757183d4c025766ebae923)\n",
            "\n",
            "Link: https://zenodo.org/api/files/4bee36ed-6552-4502-b17e-0f622616dde1/accel-03.csv   size: 434.1 MB\n",
            "\n",
            "Checksum is correct. (a190502f74f2fb1d9fdf6561cf29f8e4)\n",
            "\n",
            "Link: https://zenodo.org/api/files/4bee36ed-6552-4502-b17e-0f622616dde1/accel-04.csv   size: 189.1 MB\n",
            "\n",
            "Checksum is correct. (8487c47410fef2dbbc6cf921199112a9)\n",
            "\n",
            "Link: https://zenodo.org/api/files/4bee36ed-6552-4502-b17e-0f622616dde1/accel-05.csv   size: 170.1 MB\n",
            "\n",
            "Checksum is correct. (e5dd19d7e863df0aff83c66a9369771d)\n",
            "\n",
            "Link: https://zenodo.org/api/files/4bee36ed-6552-4502-b17e-0f622616dde1/accel-06.csv   size: 547.5 MB\n",
            "\n",
            "Checksum is correct. (bb1deaaeb3f4285ecd133efbc2174d90)\n",
            "\n",
            "Link: https://zenodo.org/api/files/4bee36ed-6552-4502-b17e-0f622616dde1/accel-07.csv   size: 232.6 MB\n",
            "\n",
            "Checksum is correct. (4fc0e3ee0c193bd935fe2340b56c820c)\n",
            "\n",
            "Link: https://zenodo.org/api/files/4bee36ed-6552-4502-b17e-0f622616dde1/accel-08.csv   size: 232.9 MB\n",
            "\n",
            "Checksum is correct. (d354648b754d95cfec64d3e9656f8f9c)\n",
            "\n",
            "Link: https://zenodo.org/api/files/4bee36ed-6552-4502-b17e-0f622616dde1/accel-09.csv   size: 226.5 MB\n",
            "\n",
            "Checksum is correct. (14c77e34a00c328e2a62bfdd5bcae311)\n",
            "\n",
            "Link: https://zenodo.org/api/files/4bee36ed-6552-4502-b17e-0f622616dde1/accel-10.csv   size: 223.0 MB\n",
            "\n",
            "Checksum is correct. (f5e131d7790fe252726047226aad2c85)\n",
            "\n",
            "Link: https://zenodo.org/api/files/4bee36ed-6552-4502-b17e-0f622616dde1/accel-11.csv   size: 229.1 MB\n",
            "\n",
            "Checksum is correct. (3d7e080fbccd33cdf800667a6db042e0)\n",
            "\n",
            "Link: https://zenodo.org/api/files/4bee36ed-6552-4502-b17e-0f622616dde1/accel-12.csv   size: 199.0 MB\n",
            "\n",
            "Checksum is correct. (a3d5b3fed759a135e83d9fce1068e3e7)\n",
            "\n",
            "Link: https://zenodo.org/api/files/4bee36ed-6552-4502-b17e-0f622616dde1/accel-13.csv   size: 231.7 MB\n",
            "\n",
            "Checksum is correct. (7ba2259c875a646cba638890b812551b)\n",
            "\n",
            "Link: https://zenodo.org/api/files/4bee36ed-6552-4502-b17e-0f622616dde1/accel-14.csv   size: 229.1 MB\n",
            "\n",
            "Checksum is correct. (ec0c356b59333fe81c0298f329e7e7dc)\n",
            "\n",
            "Link: https://zenodo.org/api/files/4bee36ed-6552-4502-b17e-0f622616dde1/accel-15.csv   size: 230.9 MB\n",
            "\n",
            "Checksum is correct. (fb3a0b06fd55e8fdee0f130dbc79d5c5)\n",
            "\n",
            "Link: https://zenodo.org/api/files/4bee36ed-6552-4502-b17e-0f622616dde1/accel-16.csv   size: 193.4 MB\n",
            "\n",
            "Checksum is correct. (96b8c15c04390d7a61d4b1b8ee79bda7)\n",
            "\n",
            "Link: https://zenodo.org/api/files/4bee36ed-6552-4502-b17e-0f622616dde1/accel-17.csv   size: 231.4 MB\n",
            "\n",
            "Checksum is correct. (7bae6097192ab0e5b2192ce4d4fcb2b8)\n",
            "\n",
            "Link: https://zenodo.org/api/files/4bee36ed-6552-4502-b17e-0f622616dde1/accel-18.csv   size: 230.6 MB\n",
            "\n",
            "Checksum is correct. (40e15b0ef918f6cf73a6e3cc158c38be)\n",
            "\n",
            "Link: https://zenodo.org/api/files/4bee36ed-6552-4502-b17e-0f622616dde1/halter-01.csv   size: 359.7 MB\n",
            "\n",
            "Checksum is correct. (79ee4556e5d50d2a4f680ad0f65a28ee)\n",
            "\n",
            "Link: https://zenodo.org/api/files/4bee36ed-6552-4502-b17e-0f622616dde1/halter-02.csv   size: 114.3 MB\n",
            "\n",
            "Checksum is correct. (f933becfe7a5f9a51a0d7db7a1cd85bd)\n",
            "\n",
            "Link: https://zenodo.org/api/files/4bee36ed-6552-4502-b17e-0f622616dde1/halter-03.csv   size: 279.8 MB\n",
            "\n",
            "Checksum is correct. (2430e583849d9a946c9c17a863b711bd)\n",
            "\n",
            "Link: https://zenodo.org/api/files/4bee36ed-6552-4502-b17e-0f622616dde1/halter-04.csv   size: 127.2 MB\n",
            "\n",
            "Checksum is correct. (be80be57b2e6033f7db4e225d2a3587d)\n",
            "\n",
            "Link: https://zenodo.org/api/files/4bee36ed-6552-4502-b17e-0f622616dde1/halter-05.csv   size: 113.8 MB\n",
            "\n",
            "Checksum is correct. (f1dd057ca95923bd561f636c4319f158)\n",
            "\n",
            "Link: https://zenodo.org/api/files/4bee36ed-6552-4502-b17e-0f622616dde1/halter-06.csv   size: 358.8 MB\n",
            "\n",
            "Checksum is correct. (cefd8132f21f978d66f51c2a642f82d5)\n",
            "\n",
            "Link: https://zenodo.org/api/files/4bee36ed-6552-4502-b17e-0f622616dde1/halter-07.csv   size: 148.6 MB\n",
            "\n",
            "Checksum is correct. (68e19efe1e84619d2aaf9b1113bfcefa)\n",
            "\n",
            "Link: https://zenodo.org/api/files/4bee36ed-6552-4502-b17e-0f622616dde1/halter-08.csv   size: 149.1 MB\n",
            "\n",
            "Checksum is correct. (4ab6261f827fbb08334d34d3bab84218)\n",
            "\n",
            "Link: https://zenodo.org/api/files/4bee36ed-6552-4502-b17e-0f622616dde1/halter-09.csv   size: 148.2 MB\n",
            "\n",
            "Checksum is correct. (41cd681b3441f67ceb257c1eceb10694)\n",
            "\n",
            "Link: https://zenodo.org/api/files/4bee36ed-6552-4502-b17e-0f622616dde1/halter-10.csv   size: 148.2 MB\n",
            "\n",
            "Checksum is correct. (d35d27cdab21d31d599942ccc403956c)\n",
            "\n",
            "Link: https://zenodo.org/api/files/4bee36ed-6552-4502-b17e-0f622616dde1/halter-11.csv   size: 146.8 MB\n",
            "\n",
            "Checksum is correct. (6784f1c5826dc95e7202ad0916a0d0f9)\n",
            "\n",
            "Link: https://zenodo.org/api/files/4bee36ed-6552-4502-b17e-0f622616dde1/halter-12.csv   size: 130.0 MB\n",
            "\n",
            "Checksum is correct. (97d196dae05c368f4ed33bec2d525bbd)\n",
            "\n",
            "Link: https://zenodo.org/api/files/4bee36ed-6552-4502-b17e-0f622616dde1/halter-13.csv   size: 147.3 MB\n",
            "\n",
            "Checksum is correct. (58a897d103baca54f6940f5cfbe3144d)\n",
            "\n",
            "Link: https://zenodo.org/api/files/4bee36ed-6552-4502-b17e-0f622616dde1/halter-14.csv   size: 150.3 MB\n",
            "\n",
            "Checksum is correct. (46028070ba943bdc488003cb3727efc4)\n",
            "\n",
            "Link: https://zenodo.org/api/files/4bee36ed-6552-4502-b17e-0f622616dde1/halter-15.csv   size: 149.6 MB\n",
            "\n",
            "Checksum is correct. (bea6cb517f10d04ff277ef6b44ebad8d)\n",
            "\n",
            "Link: https://zenodo.org/api/files/4bee36ed-6552-4502-b17e-0f622616dde1/halter-16.csv   size: 123.5 MB\n",
            "\n",
            "Checksum is correct. (f3d9d3d7cd5104a73fdcb0491c1c2837)\n",
            "\n",
            "Link: https://zenodo.org/api/files/4bee36ed-6552-4502-b17e-0f622616dde1/halter-17.csv   size: 149.2 MB\n",
            "\n",
            "Checksum is correct. (bb1df725fd74de938524c28602d0b88b)\n",
            "\n",
            "Link: https://zenodo.org/api/files/4bee36ed-6552-4502-b17e-0f622616dde1/halter-18.csv   size: 145.2 MB\n",
            "\n",
            "Checksum is correct. (8268412415e10a285cfb4a7662c6fb7c)\n",
            "\n",
            "Link: https://zenodo.org/api/files/4bee36ed-6552-4502-b17e-0f622616dde1/Readme.md   size: 0.0 MB\n",
            "\n",
            "Checksum is correct. (e52efa933769610b68cf7872f65479e7)\n",
            "All files have been downloaded.\n"
          ]
        }
      ]
    },
    {
      "cell_type": "code",
      "metadata": {
        "id": "uFala5IndeqQ"
      },
      "source": [
        "import pandas as pd"
      ],
      "execution_count": 8,
      "outputs": []
    },
    {
      "cell_type": "code",
      "metadata": {
        "id": "FmjhdpuKdes0"
      },
      "source": [
        "df = pd.read_csv(\"./accel-01.csv\")"
      ],
      "execution_count": 12,
      "outputs": []
    },
    {
      "cell_type": "code",
      "metadata": {
        "id": "L4eLyT_sB8tC",
        "outputId": "615ed372-ecf3-415f-b6f1-c12ac7106915",
        "colab": {
          "base_uri": "https://localhost:8080/",
          "height": 206
        }
      },
      "source": [
        "df.head()"
      ],
      "execution_count": 10,
      "outputs": [
        {
          "output_type": "execute_result",
          "data": {
            "text/html": [
              "<div>\n",
              "<style scoped>\n",
              "    .dataframe tbody tr th:only-of-type {\n",
              "        vertical-align: middle;\n",
              "    }\n",
              "\n",
              "    .dataframe tbody tr th {\n",
              "        vertical-align: top;\n",
              "    }\n",
              "\n",
              "    .dataframe thead th {\n",
              "        text-align: right;\n",
              "    }\n",
              "</style>\n",
              "<table border=\"1\" class=\"dataframe\">\n",
              "  <thead>\n",
              "    <tr style=\"text-align: right;\">\n",
              "      <th></th>\n",
              "      <th>timestamp</th>\n",
              "      <th>x</th>\n",
              "      <th>y</th>\n",
              "      <th>z</th>\n",
              "    </tr>\n",
              "  </thead>\n",
              "  <tbody>\n",
              "    <tr>\n",
              "      <th>0</th>\n",
              "      <td>2015-06-12 13:30:00.161041</td>\n",
              "      <td>100</td>\n",
              "      <td>620</td>\n",
              "      <td>804</td>\n",
              "    </tr>\n",
              "    <tr>\n",
              "      <th>1</th>\n",
              "      <td>2015-06-12 13:30:00.260490</td>\n",
              "      <td>68</td>\n",
              "      <td>640</td>\n",
              "      <td>800</td>\n",
              "    </tr>\n",
              "    <tr>\n",
              "      <th>2</th>\n",
              "      <td>2015-06-12 13:30:00.359939</td>\n",
              "      <td>48</td>\n",
              "      <td>628</td>\n",
              "      <td>884</td>\n",
              "    </tr>\n",
              "    <tr>\n",
              "      <th>3</th>\n",
              "      <td>2015-06-12 13:30:00.459388</td>\n",
              "      <td>44</td>\n",
              "      <td>616</td>\n",
              "      <td>888</td>\n",
              "    </tr>\n",
              "    <tr>\n",
              "      <th>4</th>\n",
              "      <td>2015-06-12 13:30:00.558837</td>\n",
              "      <td>76</td>\n",
              "      <td>628</td>\n",
              "      <td>860</td>\n",
              "    </tr>\n",
              "  </tbody>\n",
              "</table>\n",
              "</div>"
            ],
            "text/plain": [
              "                    timestamp    x    y    z\n",
              "0  2015-06-12 13:30:00.161041  100  620  804\n",
              "1  2015-06-12 13:30:00.260490   68  640  800\n",
              "2  2015-06-12 13:30:00.359939   48  628  884\n",
              "3  2015-06-12 13:30:00.459388   44  616  888\n",
              "4  2015-06-12 13:30:00.558837   76  628  860"
            ]
          },
          "metadata": {},
          "execution_count": 10
        }
      ]
    },
    {
      "cell_type": "code",
      "metadata": {
        "id": "TAOQEUY9B8qA",
        "outputId": "7af24f1a-d7fb-4678-8cd3-2d2e25526000",
        "colab": {
          "base_uri": "https://localhost:8080/",
          "height": 206
        }
      },
      "source": [
        "df = pd.read_csv(\"/content/halter-05.csv\")\n",
        "df.head()"
      ],
      "execution_count": 11,
      "outputs": [
        {
          "output_type": "execute_result",
          "data": {
            "text/html": [
              "<div>\n",
              "<style scoped>\n",
              "    .dataframe tbody tr th:only-of-type {\n",
              "        vertical-align: middle;\n",
              "    }\n",
              "\n",
              "    .dataframe tbody tr th {\n",
              "        vertical-align: top;\n",
              "    }\n",
              "\n",
              "    .dataframe thead th {\n",
              "        text-align: right;\n",
              "    }\n",
              "</style>\n",
              "<table border=\"1\" class=\"dataframe\">\n",
              "  <thead>\n",
              "    <tr style=\"text-align: right;\">\n",
              "      <th></th>\n",
              "      <th>timestamp</th>\n",
              "      <th>classification</th>\n",
              "    </tr>\n",
              "  </thead>\n",
              "  <tbody>\n",
              "    <tr>\n",
              "      <th>0</th>\n",
              "      <td>2015-06-12 14:30:00.200</td>\n",
              "      <td>1</td>\n",
              "    </tr>\n",
              "    <tr>\n",
              "      <th>1</th>\n",
              "      <td>2015-06-12 14:30:00.300</td>\n",
              "      <td>1</td>\n",
              "    </tr>\n",
              "    <tr>\n",
              "      <th>2</th>\n",
              "      <td>2015-06-12 14:30:00.400</td>\n",
              "      <td>1</td>\n",
              "    </tr>\n",
              "    <tr>\n",
              "      <th>3</th>\n",
              "      <td>2015-06-12 14:30:00.500</td>\n",
              "      <td>1</td>\n",
              "    </tr>\n",
              "    <tr>\n",
              "      <th>4</th>\n",
              "      <td>2015-06-12 14:30:00.600</td>\n",
              "      <td>1</td>\n",
              "    </tr>\n",
              "  </tbody>\n",
              "</table>\n",
              "</div>"
            ],
            "text/plain": [
              "                 timestamp  classification\n",
              "0  2015-06-12 14:30:00.200               1\n",
              "1  2015-06-12 14:30:00.300               1\n",
              "2  2015-06-12 14:30:00.400               1\n",
              "3  2015-06-12 14:30:00.500               1\n",
              "4  2015-06-12 14:30:00.600               1"
            ]
          },
          "metadata": {},
          "execution_count": 11
        }
      ]
    },
    {
      "cell_type": "code",
      "metadata": {
        "id": "vsl_XcmuB8nJ"
      },
      "source": [
        ""
      ],
      "execution_count": null,
      "outputs": []
    },
    {
      "cell_type": "code",
      "metadata": {
        "id": "9fyeHCFKB8kB"
      },
      "source": [
        ""
      ],
      "execution_count": null,
      "outputs": []
    },
    {
      "cell_type": "code",
      "metadata": {
        "id": "Rmr8jD-jB8cJ"
      },
      "source": [
        ""
      ],
      "execution_count": null,
      "outputs": []
    }
  ]
}